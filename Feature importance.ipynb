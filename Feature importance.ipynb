{
 "cells": [
  {
   "cell_type": "code",
   "execution_count": 24,
   "metadata": {},
   "outputs": [],
   "source": [
    "import numpy as np\n",
    "import pandas as pd \n",
    "from sklearn.decomposition import PCA\n",
    "pca= PCA()\n",
    "from sklearn.model_selection import train_test_split\n",
    "import matplotlib.pyplot as plt\n",
    "import seaborn as sns\n",
    "%matplotlib inline "
   ]
  },
  {
   "cell_type": "code",
   "execution_count": 25,
   "metadata": {},
   "outputs": [
    {
     "data": {
      "text/html": [
       "<div>\n",
       "<style scoped>\n",
       "    .dataframe tbody tr th:only-of-type {\n",
       "        vertical-align: middle;\n",
       "    }\n",
       "\n",
       "    .dataframe tbody tr th {\n",
       "        vertical-align: top;\n",
       "    }\n",
       "\n",
       "    .dataframe thead th {\n",
       "        text-align: right;\n",
       "    }\n",
       "</style>\n",
       "<table border=\"1\" class=\"dataframe\">\n",
       "  <thead>\n",
       "    <tr style=\"text-align: right;\">\n",
       "      <th></th>\n",
       "      <th>Anonymous Company id</th>\n",
       "      <th>Geo</th>\n",
       "      <th>Account Churned?  (1=Yes, 0=No)</th>\n",
       "      <th>Year of Change</th>\n",
       "      <th>Month of Change</th>\n",
       "      <th>nbr of days since last account operation</th>\n",
       "      <th>nbr of days since last document operation</th>\n",
       "      <th>docs opened on mobile</th>\n",
       "      <th>docs opened in reports</th>\n",
       "      <th>docs opened on web</th>\n",
       "      <th>docs opened any source</th>\n",
       "      <th>docs tagged on mobile</th>\n",
       "      <th>docs tagged on web</th>\n",
       "      <th>docs shared any source</th>\n",
       "      <th>docs chg sentiment any source</th>\n",
       "      <th>docs hidden any source</th>\n",
       "      <th>mobile logins</th>\n",
       "      <th>web logins</th>\n",
       "      <th>mobile foreground</th>\n",
       "      <th>forgot password</th>\n",
       "    </tr>\n",
       "  </thead>\n",
       "  <tbody>\n",
       "    <tr>\n",
       "      <th>0</th>\n",
       "      <td>1</td>\n",
       "      <td>Geo 1</td>\n",
       "      <td>1</td>\n",
       "      <td>2017</td>\n",
       "      <td>2</td>\n",
       "      <td>35.0</td>\n",
       "      <td>NaN</td>\n",
       "      <td>0</td>\n",
       "      <td>0</td>\n",
       "      <td>0</td>\n",
       "      <td>0</td>\n",
       "      <td>0</td>\n",
       "      <td>0</td>\n",
       "      <td>0</td>\n",
       "      <td>0</td>\n",
       "      <td>0</td>\n",
       "      <td>0</td>\n",
       "      <td>35</td>\n",
       "      <td>0</td>\n",
       "      <td>0</td>\n",
       "    </tr>\n",
       "    <tr>\n",
       "      <th>1</th>\n",
       "      <td>2</td>\n",
       "      <td>Geo 2</td>\n",
       "      <td>0</td>\n",
       "      <td>2017</td>\n",
       "      <td>7</td>\n",
       "      <td>NaN</td>\n",
       "      <td>11.0</td>\n",
       "      <td>0</td>\n",
       "      <td>11</td>\n",
       "      <td>0</td>\n",
       "      <td>11</td>\n",
       "      <td>0</td>\n",
       "      <td>0</td>\n",
       "      <td>0</td>\n",
       "      <td>0</td>\n",
       "      <td>0</td>\n",
       "      <td>0</td>\n",
       "      <td>0</td>\n",
       "      <td>0</td>\n",
       "      <td>0</td>\n",
       "    </tr>\n",
       "    <tr>\n",
       "      <th>2</th>\n",
       "      <td>3</td>\n",
       "      <td>Geo 1</td>\n",
       "      <td>0</td>\n",
       "      <td>2017</td>\n",
       "      <td>7</td>\n",
       "      <td>NaN</td>\n",
       "      <td>NaN</td>\n",
       "      <td>0</td>\n",
       "      <td>0</td>\n",
       "      <td>0</td>\n",
       "      <td>0</td>\n",
       "      <td>0</td>\n",
       "      <td>0</td>\n",
       "      <td>0</td>\n",
       "      <td>0</td>\n",
       "      <td>0</td>\n",
       "      <td>0</td>\n",
       "      <td>0</td>\n",
       "      <td>0</td>\n",
       "      <td>0</td>\n",
       "    </tr>\n",
       "    <tr>\n",
       "      <th>3</th>\n",
       "      <td>4</td>\n",
       "      <td>Geo 2</td>\n",
       "      <td>0</td>\n",
       "      <td>2017</td>\n",
       "      <td>5</td>\n",
       "      <td>NaN</td>\n",
       "      <td>NaN</td>\n",
       "      <td>0</td>\n",
       "      <td>0</td>\n",
       "      <td>0</td>\n",
       "      <td>0</td>\n",
       "      <td>0</td>\n",
       "      <td>0</td>\n",
       "      <td>0</td>\n",
       "      <td>0</td>\n",
       "      <td>0</td>\n",
       "      <td>0</td>\n",
       "      <td>0</td>\n",
       "      <td>0</td>\n",
       "      <td>0</td>\n",
       "    </tr>\n",
       "    <tr>\n",
       "      <th>4</th>\n",
       "      <td>5</td>\n",
       "      <td>Geo 2</td>\n",
       "      <td>0</td>\n",
       "      <td>2017</td>\n",
       "      <td>8</td>\n",
       "      <td>NaN</td>\n",
       "      <td>50.0</td>\n",
       "      <td>0</td>\n",
       "      <td>50</td>\n",
       "      <td>0</td>\n",
       "      <td>50</td>\n",
       "      <td>0</td>\n",
       "      <td>0</td>\n",
       "      <td>0</td>\n",
       "      <td>0</td>\n",
       "      <td>0</td>\n",
       "      <td>0</td>\n",
       "      <td>0</td>\n",
       "      <td>0</td>\n",
       "      <td>0</td>\n",
       "    </tr>\n",
       "  </tbody>\n",
       "</table>\n",
       "</div>"
      ],
      "text/plain": [
       "   Anonymous Company id    Geo  Account Churned?  (1=Yes, 0=No)  \\\n",
       "0                     1  Geo 1                                1   \n",
       "1                     2  Geo 2                                0   \n",
       "2                     3  Geo 1                                0   \n",
       "3                     4  Geo 2                                0   \n",
       "4                     5  Geo 2                                0   \n",
       "\n",
       "   Year of Change  Month of Change  nbr of days since last account operation  \\\n",
       "0            2017                2                                      35.0   \n",
       "1            2017                7                                       NaN   \n",
       "2            2017                7                                       NaN   \n",
       "3            2017                5                                       NaN   \n",
       "4            2017                8                                       NaN   \n",
       "\n",
       "   nbr of days since last document operation  docs opened on mobile  \\\n",
       "0                                        NaN                      0   \n",
       "1                                       11.0                      0   \n",
       "2                                        NaN                      0   \n",
       "3                                        NaN                      0   \n",
       "4                                       50.0                      0   \n",
       "\n",
       "   docs opened in reports  docs opened on web  docs opened any source  \\\n",
       "0                       0                   0                       0   \n",
       "1                      11                   0                      11   \n",
       "2                       0                   0                       0   \n",
       "3                       0                   0                       0   \n",
       "4                      50                   0                      50   \n",
       "\n",
       "   docs tagged on mobile  docs tagged on web  docs shared any source  \\\n",
       "0                      0                   0                       0   \n",
       "1                      0                   0                       0   \n",
       "2                      0                   0                       0   \n",
       "3                      0                   0                       0   \n",
       "4                      0                   0                       0   \n",
       "\n",
       "   docs chg sentiment any source  docs hidden any source  mobile logins  \\\n",
       "0                              0                       0              0   \n",
       "1                              0                       0              0   \n",
       "2                              0                       0              0   \n",
       "3                              0                       0              0   \n",
       "4                              0                       0              0   \n",
       "\n",
       "   web logins  mobile foreground  forgot password  \n",
       "0          35                  0                0  \n",
       "1           0                  0                0  \n",
       "2           0                  0                0  \n",
       "3           0                  0                0  \n",
       "4           0                  0                0  "
      ]
     },
     "execution_count": 25,
     "metadata": {},
     "output_type": "execute_result"
    }
   ],
   "source": [
    "#dimentionality reduction\n",
    "\n",
    "#cleaning the data\n",
    "meltwater = pd.read_csv(\"NestMetric Training Data.csv\")\n",
    "meltwater.head()"
   ]
  },
  {
   "cell_type": "code",
   "execution_count": 26,
   "metadata": {},
   "outputs": [],
   "source": [
    "meltwater = meltwater.drop([\"Anonymous Company id\",\"Geo\",\"Month of Change\", \"Year of Change\", \"forgot password\"], axis= 1)\n",
    "\n"
   ]
  },
  {
   "cell_type": "code",
   "execution_count": 27,
   "metadata": {},
   "outputs": [],
   "source": [
    "meltwater = meltwater.dropna()\n",
    "meltwater = meltwater.reset_index(drop=True)"
   ]
  },
  {
   "cell_type": "code",
   "execution_count": 28,
   "metadata": {},
   "outputs": [],
   "source": [
    "from sklearn.preprocessing import MinMaxScaler\n",
    "scaler = MinMaxScaler()\n",
    "meltwater[[\"nbr of days since last account operation\",\n",
    "           \"nbr of days since last document operation\",\n",
    "           \"docs opened on mobile\",\n",
    "           \"docs opened in reports\",\n",
    "           \"docs opened on web\",\n",
    "           \"docs opened any source\",\n",
    "           \"docs tagged on mobile\",\n",
    "           \"docs tagged on web\",\n",
    "           \"docs shared any source\",\n",
    "           \"docs chg sentiment any source\",\n",
    "           \"docs hidden any source\",\n",
    "           \"mobile logins\",\n",
    "           \"web logins\",\n",
    "           \"mobile foreground\"]] = scaler.fit_transform(meltwater[[\"nbr of days since last account operation\",\n",
    "           \"nbr of days since last document operation\",\n",
    "           \"docs opened on mobile\",\n",
    "           \"docs opened in reports\",\n",
    "           \"docs opened on web\",\n",
    "           \"docs opened any source\",\n",
    "           \"docs tagged on mobile\",\n",
    "           \"docs tagged on web\",\n",
    "           \"docs shared any source\",\n",
    "           \"docs chg sentiment any source\",\n",
    "           \"docs hidden any source\",\n",
    "           \"mobile logins\",\n",
    "           \"web logins\",\n",
    "           \"mobile foreground\"]])\n",
    "\n",
    "\n"
   ]
  },
  {
   "cell_type": "code",
   "execution_count": 29,
   "metadata": {},
   "outputs": [
    {
     "data": {
      "image/png": "[encoded data removed]",
      "text/plain": [
       "<matplotlib.figure.Figure at 0x10fc61fd0>"
      ]
     },
     "metadata": {},
     "output_type": "display_data"
    }
   ],
   "source": [
    "sns.set(style=\"darkgrid\")\n",
    "import seaborn as sns\n",
    "ax = sns.countplot(x=\"Account Churned?  (1=Yes, 0=No)\", data=meltwater)"
   ]
  },
  {
   "cell_type": "code",
   "execution_count": 30,
   "metadata": {},
   "outputs": [],
   "source": [
    "no_churn = len(meltwater[meltwater[\"Account Churned?  (1=Yes, 0=No)\"] == 1])\n",
    "non_churn_indices = meltwater[meltwater[\"Account Churned?  (1=Yes, 0=No)\"] == 0].index\n",
    "\n",
    "random_indices = np.random.choice(non_churn_indices,no_churn,replace =False)\n",
    "churn_indices = meltwater[meltwater[\"Account Churned?  (1=Yes, 0=No)\"] == 1].index\n",
    "\n",
    "under_sample_indices = np.concatenate([churn_indices,random_indices])\n",
    "under_sample = meltwater.loc[under_sample_indices]"
   ]
  },
  {
   "cell_type": "code",
   "execution_count": 31,
   "metadata": {},
   "outputs": [
    {
     "data": {
      "text/plain": [
       "<matplotlib.axes._subplots.AxesSubplot at 0x10ab2f550>"
      ]
     },
     "execution_count": 31,
     "metadata": {},
     "output_type": "execute_result"
    },
    {
     "data": {
      "image/png": "[encoded data removed]",
      "text/plain": [
       "<matplotlib.figure.Figure at 0x10efd05f8>"
      ]
     },
     "metadata": {},
     "output_type": "display_data"
    }
   ],
   "source": [
    "sns.countplot(x='Account Churned?  (1=Yes, 0=No)', data=under_sample)\n",
    "\n"
   ]
  },
  {
   "cell_type": "code",
   "execution_count": 73,
   "metadata": {},
   "outputs": [
    {
     "data": {
      "text/plain": [
       "1.0"
      ]
     },
     "execution_count": 73,
     "metadata": {},
     "output_type": "execute_result"
    }
   ],
   "source": [
    "array = under_sample.values\n",
    "X = array[:,1:16]\n",
    "Y = array[:,0]\n",
    "Y[4]\n",
    "\n",
    "\n"
   ]
  },
  {
   "cell_type": "code",
   "execution_count": 74,
   "metadata": {},
   "outputs": [],
   "source": [
    "#split the data\n",
    "#train, test = train_test_split(meltwater, test_size=0.2)\n",
    "\n",
    " # Call the diabetes dataset from sklearn\n",
    "df = pd.DataFrame(under_sample, columns=[\"nbr of days since last account operation\",\n",
    "           \"nbr of days since last document operation\",\n",
    "           \"docs opened on mobile\",\n",
    "           \"docs opened in reports\",\n",
    "           \"docs opened on web\",\n",
    "           \"docs opened any source\",\n",
    "           \"docs tagged on mobile\",\n",
    "           \"docs tagged on web\",\n",
    "           \"docs shared any source\",\n",
    "           \"docs chg sentiment any source\",\n",
    "           \"docs hidden any source\",\n",
    "           \"mobile logins\",\n",
    "           \"web logins\",\n",
    "           \"mobile foreground\"]) # load the dataset as a pandas data frame\n",
    "# define the target variable (dependent variable) as y\n",
    "y =pd.DataFrame(under_sample[\"Account Churned?  (1=Yes, 0=No)\"])\n",
    "\n",
    "\n",
    "\n",
    "\n",
    "\n"
   ]
  },
  {
   "cell_type": "code",
   "execution_count": 75,
   "metadata": {},
   "outputs": [
    {
     "data": {
      "text/plain": [
       "array([[0.01126972, 0.00014578, 0.0023015 , ..., 0.02586207, 0.01025641,\n",
       "        0.0081043 ],\n",
       "       [0.01784373, 0.        , 0.00057537, ..., 0.00862069, 0.05714286,\n",
       "        0.00317125],\n",
       "       [0.00225394, 0.00018743, 0.        , ..., 0.        , 0.00732601,\n",
       "        0.        ],\n",
       "       ...,\n",
       "       [0.00112697, 0.00058312, 0.        , ..., 0.        , 0.0029304 ,\n",
       "        0.00035236],\n",
       "       [0.00244177, 0.00223529, 0.        , ..., 0.        , 0.00952381,\n",
       "        0.        ],\n",
       "       [0.00093914, 0.00188819, 0.        , ..., 0.        , 0.0007326 ,\n",
       "        0.        ]])"
      ]
     },
     "execution_count": 75,
     "metadata": {},
     "output_type": "execute_result"
    }
   ],
   "source": [
    "X"
   ]
  },
  {
   "cell_type": "code",
   "execution_count": 76,
   "metadata": {},
   "outputs": [],
   "source": [
    "y =pd.DataFrame(under_sample[\"Account Churned?  (1=Yes, 0=No)\"])\n",
    "\n"
   ]
  },
  {
   "cell_type": "code",
   "execution_count": 77,
   "metadata": {},
   "outputs": [
    {
     "name": "stdout",
     "output_type": "stream",
     "text": [
      "(3492, 14) (3492,)\n",
      "(874, 14) (874,)\n"
     ]
    }
   ],
   "source": [
    "X_train, X_test, y_train, y_test = train_test_split(X,Y, test_size=0.2)\n",
    "print( X_train.shape, y_train.shape)\n",
    "print (X_test.shape, y_test.shape)\n",
    "\n"
   ]
  },
  {
   "cell_type": "code",
   "execution_count": 78,
   "metadata": {},
   "outputs": [],
   "source": [
    "from sklearn.ensemble import ExtraTreesClassifier\n",
    "model = ExtraTreesClassifier()"
   ]
  },
  {
   "cell_type": "code",
   "execution_count": 79,
   "metadata": {},
   "outputs": [
    {
     "data": {
      "text/plain": [
       "ExtraTreesClassifier(bootstrap=False, class_weight=None, criterion='gini',\n",
       "           max_depth=None, max_features='auto', max_leaf_nodes=None,\n",
       "           min_impurity_decrease=0.0, min_impurity_split=None,\n",
       "           min_samples_leaf=1, min_samples_split=2,\n",
       "           min_weight_fraction_leaf=0.0, n_estimators=10, n_jobs=1,\n",
       "           oob_score=False, random_state=None, verbose=0, warm_start=False)"
      ]
     },
     "execution_count": 79,
     "metadata": {},
     "output_type": "execute_result"
    }
   ],
   "source": [
    "model.fit (X_train, y_train)"
   ]
  },
  {
   "cell_type": "code",
   "execution_count": 80,
   "metadata": {},
   "outputs": [
    {
     "name": "stdout",
     "output_type": "stream",
     "text": [
      "[0.22338131 0.13653141 0.04638185 0.13191992 0.12455501 0.12740016\n",
      " 0.01511232 0.04916407 0.05288577 0.03873543 0.02534574 0.028587  ]\n"
     ]
    }
   ],
   "source": [
    "importances = model.feature_importances_\n",
    "print(importance)"
   ]
  },
  {
   "cell_type": "markdown",
   "metadata": {},
   "source": [
    " importance score for each attribute where the larger score the more important the attribute"
   ]
  },
  {
   "cell_type": "code",
   "execution_count": null,
   "metadata": {},
   "outputs": [],
   "source": []
  },
  {
   "cell_type": "code",
   "execution_count": 81,
   "metadata": {},
   "outputs": [
    {
     "data": {
      "text/plain": [
       "Text(0.5,0,'Relative Importance')"
      ]
     },
     "execution_count": 81,
     "metadata": {},
     "output_type": "execute_result"
    },
    {
     "data": {
      "image/png": "[encoded data removed]",
      "text/plain": [
       "<matplotlib.figure.Figure at 0x10f00da58>"
      ]
     },
     "metadata": {},
     "output_type": "display_data"
    }
   ],
   "source": [
    "indices = np.argsort(importances)\n",
    "\n",
    "# get the features from the original data set\n",
    "features = under_sample.columns[1:30]\n",
    "\n",
    "# plot them with a horizontal bar chart\n",
    "plt.figure(1)\n",
    "plt.title('Feature Importances')\n",
    "plt.barh(range(len(indices)), importances[indices], color='b', align='center')\n",
    "plt.yticks(range(len(indices)), features[indices])\n",
    "plt.xlabel('Relative Importance')"
   ]
  },
  {
   "cell_type": "markdown",
   "metadata": {},
   "source": [
    "The above diagram ranks all the features used and their imortance to churn "
   ]
  },
  {
   "cell_type": "code",
   "execution_count": 64,
   "metadata": {},
   "outputs": [
    {
     "data": {
      "text/html": [
       "<div>\n",
       "<style scoped>\n",
       "    .dataframe tbody tr th:only-of-type {\n",
       "        vertical-align: middle;\n",
       "    }\n",
       "\n",
       "    .dataframe tbody tr th {\n",
       "        vertical-align: top;\n",
       "    }\n",
       "\n",
       "    .dataframe thead th {\n",
       "        text-align: right;\n",
       "    }\n",
       "</style>\n",
       "<table border=\"1\" class=\"dataframe\">\n",
       "  <thead>\n",
       "    <tr style=\"text-align: right;\">\n",
       "      <th></th>\n",
       "      <th>Account Churned?  (1=Yes, 0=No)</th>\n",
       "      <th>nbr of days since last account operation</th>\n",
       "      <th>nbr of days since last document operation</th>\n",
       "      <th>docs opened on mobile</th>\n",
       "      <th>docs opened in reports</th>\n",
       "      <th>docs opened on web</th>\n",
       "      <th>docs opened any source</th>\n",
       "      <th>docs tagged on mobile</th>\n",
       "      <th>docs tagged on web</th>\n",
       "      <th>docs shared any source</th>\n",
       "      <th>docs chg sentiment any source</th>\n",
       "      <th>docs hidden any source</th>\n",
       "      <th>mobile logins</th>\n",
       "      <th>web logins</th>\n",
       "      <th>mobile foreground</th>\n",
       "    </tr>\n",
       "  </thead>\n",
       "  <tbody>\n",
       "    <tr>\n",
       "      <th>7</th>\n",
       "      <td>1</td>\n",
       "      <td>0.011270</td>\n",
       "      <td>0.000146</td>\n",
       "      <td>0.002301</td>\n",
       "      <td>0.000021</td>\n",
       "      <td>0.001463</td>\n",
       "      <td>0.000137</td>\n",
       "      <td>0.000704</td>\n",
       "      <td>0.0</td>\n",
       "      <td>0.000136</td>\n",
       "      <td>0.0</td>\n",
       "      <td>0.0</td>\n",
       "      <td>0.025862</td>\n",
       "      <td>0.010256</td>\n",
       "      <td>0.008104</td>\n",
       "    </tr>\n",
       "    <tr>\n",
       "      <th>19</th>\n",
       "      <td>1</td>\n",
       "      <td>0.017844</td>\n",
       "      <td>0.000000</td>\n",
       "      <td>0.000575</td>\n",
       "      <td>0.000000</td>\n",
       "      <td>0.000000</td>\n",
       "      <td>0.000007</td>\n",
       "      <td>0.000000</td>\n",
       "      <td>0.0</td>\n",
       "      <td>0.000000</td>\n",
       "      <td>0.0</td>\n",
       "      <td>0.0</td>\n",
       "      <td>0.008621</td>\n",
       "      <td>0.057143</td>\n",
       "      <td>0.003171</td>\n",
       "    </tr>\n",
       "    <tr>\n",
       "      <th>23</th>\n",
       "      <td>1</td>\n",
       "      <td>0.002254</td>\n",
       "      <td>0.000187</td>\n",
       "      <td>0.000000</td>\n",
       "      <td>0.000007</td>\n",
       "      <td>0.003291</td>\n",
       "      <td>0.000192</td>\n",
       "      <td>0.000000</td>\n",
       "      <td>0.0</td>\n",
       "      <td>0.000000</td>\n",
       "      <td>0.0</td>\n",
       "      <td>0.0</td>\n",
       "      <td>0.000000</td>\n",
       "      <td>0.007326</td>\n",
       "      <td>0.000000</td>\n",
       "    </tr>\n",
       "    <tr>\n",
       "      <th>27</th>\n",
       "      <td>1</td>\n",
       "      <td>0.000751</td>\n",
       "      <td>0.001069</td>\n",
       "      <td>0.000000</td>\n",
       "      <td>0.001032</td>\n",
       "      <td>0.000610</td>\n",
       "      <td>0.001065</td>\n",
       "      <td>0.000000</td>\n",
       "      <td>0.0</td>\n",
       "      <td>0.000000</td>\n",
       "      <td>0.0</td>\n",
       "      <td>0.0</td>\n",
       "      <td>0.000000</td>\n",
       "      <td>0.000733</td>\n",
       "      <td>0.000000</td>\n",
       "    </tr>\n",
       "    <tr>\n",
       "      <th>28</th>\n",
       "      <td>1</td>\n",
       "      <td>0.001315</td>\n",
       "      <td>0.000847</td>\n",
       "      <td>0.000000</td>\n",
       "      <td>0.000674</td>\n",
       "      <td>0.003048</td>\n",
       "      <td>0.000845</td>\n",
       "      <td>0.000000</td>\n",
       "      <td>0.0</td>\n",
       "      <td>0.000000</td>\n",
       "      <td>0.0</td>\n",
       "      <td>0.0</td>\n",
       "      <td>0.000000</td>\n",
       "      <td>0.003663</td>\n",
       "      <td>0.000000</td>\n",
       "    </tr>\n",
       "  </tbody>\n",
       "</table>\n",
       "</div>"
      ],
      "text/plain": [
       "    Account Churned?  (1=Yes, 0=No)  nbr of days since last account operation  \\\n",
       "7                                 1                                  0.011270   \n",
       "19                                1                                  0.017844   \n",
       "23                                1                                  0.002254   \n",
       "27                                1                                  0.000751   \n",
       "28                                1                                  0.001315   \n",
       "\n",
       "    nbr of days since last document operation  docs opened on mobile  \\\n",
       "7                                    0.000146               0.002301   \n",
       "19                                   0.000000               0.000575   \n",
       "23                                   0.000187               0.000000   \n",
       "27                                   0.001069               0.000000   \n",
       "28                                   0.000847               0.000000   \n",
       "\n",
       "    docs opened in reports  docs opened on web  docs opened any source  \\\n",
       "7                 0.000021            0.001463                0.000137   \n",
       "19                0.000000            0.000000                0.000007   \n",
       "23                0.000007            0.003291                0.000192   \n",
       "27                0.001032            0.000610                0.001065   \n",
       "28                0.000674            0.003048                0.000845   \n",
       "\n",
       "    docs tagged on mobile  docs tagged on web  docs shared any source  \\\n",
       "7                0.000704                 0.0                0.000136   \n",
       "19               0.000000                 0.0                0.000000   \n",
       "23               0.000000                 0.0                0.000000   \n",
       "27               0.000000                 0.0                0.000000   \n",
       "28               0.000000                 0.0                0.000000   \n",
       "\n",
       "    docs chg sentiment any source  docs hidden any source  mobile logins  \\\n",
       "7                             0.0                     0.0       0.025862   \n",
       "19                            0.0                     0.0       0.008621   \n",
       "23                            0.0                     0.0       0.000000   \n",
       "27                            0.0                     0.0       0.000000   \n",
       "28                            0.0                     0.0       0.000000   \n",
       "\n",
       "    web logins  mobile foreground  \n",
       "7     0.010256           0.008104  \n",
       "19    0.057143           0.003171  \n",
       "23    0.007326           0.000000  \n",
       "27    0.000733           0.000000  \n",
       "28    0.003663           0.000000  "
      ]
     },
     "execution_count": 64,
     "metadata": {},
     "output_type": "execute_result"
    }
   ],
   "source": [
    "under_sample.head()"
   ]
  },
  {
   "cell_type": "code",
   "execution_count": null,
   "metadata": {},
   "outputs": [],
   "source": []
  }
 ],
 "metadata": {
  "kernelspec": {
   "display_name": "Python 3",
   "language": "python",
   "name": "python3"
  },
  "language_info": {
   "codemirror_mode": {
    "name": "ipython",
    "version": 3
   },
   "file_extension": ".py",
   "mimetype": "text/x-python",
   "name": "python",
   "nbconvert_exporter": "python",
   "pygments_lexer": "ipython3",
   "version": "3.6.4"
  }
 },
 "nbformat": 4,
 "nbformat_minor": 2
}
