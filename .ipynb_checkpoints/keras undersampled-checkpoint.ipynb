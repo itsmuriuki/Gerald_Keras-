{
 "cells": [
  {
   "cell_type": "code",
   "execution_count": 1,
   "metadata": {},
   "outputs": [
    {
     "name": "stderr",
     "output_type": "stream",
     "text": [
      "/home/bens/anaconda3/lib/python3.6/site-packages/h5py/__init__.py:36: FutureWarning: Conversion of the second argument of issubdtype from `float` to `np.floating` is deprecated. In future, it will be treated as `np.float64 == np.dtype(float).type`.\n",
      "  from ._conv import register_converters as _register_converters\n",
      "Using TensorFlow backend.\n"
     ]
    },
    {
     "data": {
      "text/html": [
       "<div>\n",
       "<style scoped>\n",
       "    .dataframe tbody tr th:only-of-type {\n",
       "        vertical-align: middle;\n",
       "    }\n",
       "\n",
       "    .dataframe tbody tr th {\n",
       "        vertical-align: top;\n",
       "    }\n",
       "\n",
       "    .dataframe thead th {\n",
       "        text-align: right;\n",
       "    }\n",
       "</style>\n",
       "<table border=\"1\" class=\"dataframe\">\n",
       "  <thead>\n",
       "    <tr style=\"text-align: right;\">\n",
       "      <th></th>\n",
       "      <th>Anonymous Company id</th>\n",
       "      <th>Geo</th>\n",
       "      <th>Account Churned?  (1=Yes, 0=No)</th>\n",
       "      <th>Year of Change</th>\n",
       "      <th>Month of Change</th>\n",
       "      <th>nbr of days since last account operation</th>\n",
       "      <th>nbr of days since last document operation</th>\n",
       "      <th>docs opened on mobile</th>\n",
       "      <th>docs opened in reports</th>\n",
       "      <th>docs opened on web</th>\n",
       "      <th>docs opened any source</th>\n",
       "      <th>docs tagged on mobile</th>\n",
       "      <th>docs tagged on web</th>\n",
       "      <th>docs shared any source</th>\n",
       "      <th>docs chg sentiment any source</th>\n",
       "      <th>docs hidden any source</th>\n",
       "      <th>mobile logins</th>\n",
       "      <th>web logins</th>\n",
       "      <th>mobile foreground</th>\n",
       "      <th>forgot password</th>\n",
       "    </tr>\n",
       "  </thead>\n",
       "  <tbody>\n",
       "    <tr>\n",
       "      <th>0</th>\n",
       "      <td>1</td>\n",
       "      <td>Geo 1</td>\n",
       "      <td>1</td>\n",
       "      <td>2017</td>\n",
       "      <td>2</td>\n",
       "      <td>35.0</td>\n",
       "      <td>NaN</td>\n",
       "      <td>0</td>\n",
       "      <td>0</td>\n",
       "      <td>0</td>\n",
       "      <td>0</td>\n",
       "      <td>0</td>\n",
       "      <td>0</td>\n",
       "      <td>0</td>\n",
       "      <td>0</td>\n",
       "      <td>0</td>\n",
       "      <td>0</td>\n",
       "      <td>35</td>\n",
       "      <td>0</td>\n",
       "      <td>0</td>\n",
       "    </tr>\n",
       "    <tr>\n",
       "      <th>1</th>\n",
       "      <td>2</td>\n",
       "      <td>Geo 2</td>\n",
       "      <td>0</td>\n",
       "      <td>2017</td>\n",
       "      <td>7</td>\n",
       "      <td>NaN</td>\n",
       "      <td>11.0</td>\n",
       "      <td>0</td>\n",
       "      <td>11</td>\n",
       "      <td>0</td>\n",
       "      <td>11</td>\n",
       "      <td>0</td>\n",
       "      <td>0</td>\n",
       "      <td>0</td>\n",
       "      <td>0</td>\n",
       "      <td>0</td>\n",
       "      <td>0</td>\n",
       "      <td>0</td>\n",
       "      <td>0</td>\n",
       "      <td>0</td>\n",
       "    </tr>\n",
       "    <tr>\n",
       "      <th>2</th>\n",
       "      <td>3</td>\n",
       "      <td>Geo 1</td>\n",
       "      <td>0</td>\n",
       "      <td>2017</td>\n",
       "      <td>7</td>\n",
       "      <td>NaN</td>\n",
       "      <td>NaN</td>\n",
       "      <td>0</td>\n",
       "      <td>0</td>\n",
       "      <td>0</td>\n",
       "      <td>0</td>\n",
       "      <td>0</td>\n",
       "      <td>0</td>\n",
       "      <td>0</td>\n",
       "      <td>0</td>\n",
       "      <td>0</td>\n",
       "      <td>0</td>\n",
       "      <td>0</td>\n",
       "      <td>0</td>\n",
       "      <td>0</td>\n",
       "    </tr>\n",
       "    <tr>\n",
       "      <th>3</th>\n",
       "      <td>4</td>\n",
       "      <td>Geo 2</td>\n",
       "      <td>0</td>\n",
       "      <td>2017</td>\n",
       "      <td>5</td>\n",
       "      <td>NaN</td>\n",
       "      <td>NaN</td>\n",
       "      <td>0</td>\n",
       "      <td>0</td>\n",
       "      <td>0</td>\n",
       "      <td>0</td>\n",
       "      <td>0</td>\n",
       "      <td>0</td>\n",
       "      <td>0</td>\n",
       "      <td>0</td>\n",
       "      <td>0</td>\n",
       "      <td>0</td>\n",
       "      <td>0</td>\n",
       "      <td>0</td>\n",
       "      <td>0</td>\n",
       "    </tr>\n",
       "    <tr>\n",
       "      <th>4</th>\n",
       "      <td>5</td>\n",
       "      <td>Geo 2</td>\n",
       "      <td>0</td>\n",
       "      <td>2017</td>\n",
       "      <td>8</td>\n",
       "      <td>NaN</td>\n",
       "      <td>50.0</td>\n",
       "      <td>0</td>\n",
       "      <td>50</td>\n",
       "      <td>0</td>\n",
       "      <td>50</td>\n",
       "      <td>0</td>\n",
       "      <td>0</td>\n",
       "      <td>0</td>\n",
       "      <td>0</td>\n",
       "      <td>0</td>\n",
       "      <td>0</td>\n",
       "      <td>0</td>\n",
       "      <td>0</td>\n",
       "      <td>0</td>\n",
       "    </tr>\n",
       "  </tbody>\n",
       "</table>\n",
       "</div>"
      ],
      "text/plain": [
       "   Anonymous Company id    Geo  Account Churned?  (1=Yes, 0=No)  \\\n",
       "0                     1  Geo 1                                1   \n",
       "1                     2  Geo 2                                0   \n",
       "2                     3  Geo 1                                0   \n",
       "3                     4  Geo 2                                0   \n",
       "4                     5  Geo 2                                0   \n",
       "\n",
       "   Year of Change  Month of Change  nbr of days since last account operation  \\\n",
       "0            2017                2                                      35.0   \n",
       "1            2017                7                                       NaN   \n",
       "2            2017                7                                       NaN   \n",
       "3            2017                5                                       NaN   \n",
       "4            2017                8                                       NaN   \n",
       "\n",
       "   nbr of days since last document operation  docs opened on mobile  \\\n",
       "0                                        NaN                      0   \n",
       "1                                       11.0                      0   \n",
       "2                                        NaN                      0   \n",
       "3                                        NaN                      0   \n",
       "4                                       50.0                      0   \n",
       "\n",
       "   docs opened in reports  docs opened on web  docs opened any source  \\\n",
       "0                       0                   0                       0   \n",
       "1                      11                   0                      11   \n",
       "2                       0                   0                       0   \n",
       "3                       0                   0                       0   \n",
       "4                      50                   0                      50   \n",
       "\n",
       "   docs tagged on mobile  docs tagged on web  docs shared any source  \\\n",
       "0                      0                   0                       0   \n",
       "1                      0                   0                       0   \n",
       "2                      0                   0                       0   \n",
       "3                      0                   0                       0   \n",
       "4                      0                   0                       0   \n",
       "\n",
       "   docs chg sentiment any source  docs hidden any source  mobile logins  \\\n",
       "0                              0                       0              0   \n",
       "1                              0                       0              0   \n",
       "2                              0                       0              0   \n",
       "3                              0                       0              0   \n",
       "4                              0                       0              0   \n",
       "\n",
       "   web logins  mobile foreground  forgot password  \n",
       "0          35                  0                0  \n",
       "1           0                  0                0  \n",
       "2           0                  0                0  \n",
       "3           0                  0                0  \n",
       "4           0                  0                0  "
      ]
     },
     "execution_count": 1,
     "metadata": {},
     "output_type": "execute_result"
    }
   ],
   "source": [
    "import pandas as pd\n",
    "import seaborn as sns\n",
    "import numpy as np\n",
    "from keras.models import Sequential\n",
    "from keras.layers import Dense, Activation, Input\n",
    "from keras import models, layers\n",
    "from keras.utils import to_categorical\n",
    "from keras.layers import Flatten\n",
    "from keras.models import Model\n",
    "from keras import models\n",
    "from keras import layers\n",
    "import warnings\n",
    "warnings.filterwarnings('ignore')\n",
    "\n",
    "from sklearn.model_selection import train_test_split\n",
    "\n",
    "#cleaning the data\n",
    "meltwater = pd.read_csv(\"train.csv\")\n",
    "meltwater.head()"
   ]
  },
  {
   "cell_type": "code",
   "execution_count": 2,
   "metadata": {},
   "outputs": [
    {
     "data": {
      "text/plain": [
       "'2.1.5'"
      ]
     },
     "execution_count": 2,
     "metadata": {},
     "output_type": "execute_result"
    }
   ],
   "source": [
    "# my version of keras\n",
    "import keras\n",
    "keras.__version__"
   ]
  },
  {
   "cell_type": "code",
   "execution_count": 3,
   "metadata": {},
   "outputs": [],
   "source": [
    "meltwater = meltwater.drop([\"Anonymous Company id\",\"Geo\",\"Month of Change\", \"Year of Change\", \"forgot password\"], axis= 1)"
   ]
  },
  {
   "cell_type": "code",
   "execution_count": 4,
   "metadata": {},
   "outputs": [],
   "source": [
    "# Don't \n",
    "meltwater = meltwater.dropna()\n",
    "meltwater = meltwater.reset_index(drop=True)"
   ]
  },
  {
   "cell_type": "code",
   "execution_count": 5,
   "metadata": {},
   "outputs": [],
   "source": [
    "from sklearn.preprocessing import MinMaxScaler\n",
    "scaler = MinMaxScaler()\n",
    "meltwater[[\"nbr of days since last account operation\",\n",
    "           \"nbr of days since last document operation\",\n",
    "           \"docs opened on mobile\",\n",
    "           \"docs opened in reports\",\n",
    "           \"docs opened on web\",\n",
    "           \"docs opened any source\",\n",
    "           \"docs tagged on mobile\",\n",
    "           \"docs tagged on web\",\n",
    "           \"docs shared any source\",\n",
    "           \"docs chg sentiment any source\",\n",
    "           \"docs hidden any source\",\n",
    "           \"mobile logins\",\n",
    "           \"web logins\",\n",
    "           \"mobile foreground\"]] = scaler.fit_transform(meltwater[[\"nbr of days since last account operation\",\n",
    "           \"nbr of days since last document operation\",\n",
    "           \"docs opened on mobile\",\n",
    "           \"docs opened in reports\",\n",
    "           \"docs opened on web\",\n",
    "           \"docs opened any source\",\n",
    "           \"docs tagged on mobile\",\n",
    "           \"docs tagged on web\",\n",
    "           \"docs shared any source\",\n",
    "           \"docs chg sentiment any source\",\n",
    "           \"docs hidden any source\",\n",
    "           \"mobile logins\",\n",
    "           \"web logins\",\n",
    "           \"mobile foreground\"]])\n",
    "\n",
    "\n"
   ]
  },
  {
   "cell_type": "code",
   "execution_count": 6,
   "metadata": {},
   "outputs": [
    {
     "data": {
      "text/html": [
       "<div>\n",
       "<style scoped>\n",
       "    .dataframe tbody tr th:only-of-type {\n",
       "        vertical-align: middle;\n",
       "    }\n",
       "\n",
       "    .dataframe tbody tr th {\n",
       "        vertical-align: top;\n",
       "    }\n",
       "\n",
       "    .dataframe thead th {\n",
       "        text-align: right;\n",
       "    }\n",
       "</style>\n",
       "<table border=\"1\" class=\"dataframe\">\n",
       "  <thead>\n",
       "    <tr style=\"text-align: right;\">\n",
       "      <th></th>\n",
       "      <th>Account Churned?  (1=Yes, 0=No)</th>\n",
       "      <th>nbr of days since last account operation</th>\n",
       "      <th>nbr of days since last document operation</th>\n",
       "      <th>docs opened on mobile</th>\n",
       "      <th>docs opened in reports</th>\n",
       "      <th>docs opened on web</th>\n",
       "      <th>docs opened any source</th>\n",
       "      <th>docs tagged on mobile</th>\n",
       "      <th>docs tagged on web</th>\n",
       "      <th>docs shared any source</th>\n",
       "      <th>docs chg sentiment any source</th>\n",
       "      <th>docs hidden any source</th>\n",
       "      <th>mobile logins</th>\n",
       "      <th>web logins</th>\n",
       "      <th>mobile foreground</th>\n",
       "    </tr>\n",
       "  </thead>\n",
       "  <tbody>\n",
       "    <tr>\n",
       "      <th>0</th>\n",
       "      <td>0</td>\n",
       "      <td>0.029677</td>\n",
       "      <td>0.001270</td>\n",
       "      <td>0.0</td>\n",
       "      <td>0.000255</td>\n",
       "      <td>0.017920</td>\n",
       "      <td>0.001264</td>\n",
       "      <td>0.0</td>\n",
       "      <td>0.000000</td>\n",
       "      <td>0.000000</td>\n",
       "      <td>0.0</td>\n",
       "      <td>0.0</td>\n",
       "      <td>0.000000</td>\n",
       "      <td>0.079853</td>\n",
       "      <td>0.0</td>\n",
       "    </tr>\n",
       "    <tr>\n",
       "      <th>1</th>\n",
       "      <td>0</td>\n",
       "      <td>0.009204</td>\n",
       "      <td>0.000882</td>\n",
       "      <td>0.0</td>\n",
       "      <td>0.000330</td>\n",
       "      <td>0.009753</td>\n",
       "      <td>0.000880</td>\n",
       "      <td>0.0</td>\n",
       "      <td>0.000000</td>\n",
       "      <td>0.000000</td>\n",
       "      <td>0.0</td>\n",
       "      <td>0.0</td>\n",
       "      <td>0.000000</td>\n",
       "      <td>0.035165</td>\n",
       "      <td>0.0</td>\n",
       "    </tr>\n",
       "    <tr>\n",
       "      <th>2</th>\n",
       "      <td>0</td>\n",
       "      <td>0.003569</td>\n",
       "      <td>0.000451</td>\n",
       "      <td>0.0</td>\n",
       "      <td>0.000172</td>\n",
       "      <td>0.004998</td>\n",
       "      <td>0.000454</td>\n",
       "      <td>0.0</td>\n",
       "      <td>0.000000</td>\n",
       "      <td>0.000000</td>\n",
       "      <td>0.0</td>\n",
       "      <td>0.0</td>\n",
       "      <td>0.008621</td>\n",
       "      <td>0.002930</td>\n",
       "      <td>0.0</td>\n",
       "    </tr>\n",
       "    <tr>\n",
       "      <th>3</th>\n",
       "      <td>0</td>\n",
       "      <td>0.001878</td>\n",
       "      <td>0.000062</td>\n",
       "      <td>0.0</td>\n",
       "      <td>0.000000</td>\n",
       "      <td>0.001219</td>\n",
       "      <td>0.000069</td>\n",
       "      <td>0.0</td>\n",
       "      <td>0.000707</td>\n",
       "      <td>0.000000</td>\n",
       "      <td>0.0</td>\n",
       "      <td>0.0</td>\n",
       "      <td>0.000000</td>\n",
       "      <td>0.008059</td>\n",
       "      <td>0.0</td>\n",
       "    </tr>\n",
       "    <tr>\n",
       "      <th>4</th>\n",
       "      <td>0</td>\n",
       "      <td>0.009204</td>\n",
       "      <td>0.001090</td>\n",
       "      <td>0.0</td>\n",
       "      <td>0.000791</td>\n",
       "      <td>0.005120</td>\n",
       "      <td>0.001079</td>\n",
       "      <td>0.0</td>\n",
       "      <td>0.001061</td>\n",
       "      <td>0.000136</td>\n",
       "      <td>0.0</td>\n",
       "      <td>0.0</td>\n",
       "      <td>0.000000</td>\n",
       "      <td>0.024176</td>\n",
       "      <td>0.0</td>\n",
       "    </tr>\n",
       "  </tbody>\n",
       "</table>\n",
       "</div>"
      ],
      "text/plain": [
       "   Account Churned?  (1=Yes, 0=No)  nbr of days since last account operation  \\\n",
       "0                                0                                  0.029677   \n",
       "1                                0                                  0.009204   \n",
       "2                                0                                  0.003569   \n",
       "3                                0                                  0.001878   \n",
       "4                                0                                  0.009204   \n",
       "\n",
       "   nbr of days since last document operation  docs opened on mobile  \\\n",
       "0                                   0.001270                    0.0   \n",
       "1                                   0.000882                    0.0   \n",
       "2                                   0.000451                    0.0   \n",
       "3                                   0.000062                    0.0   \n",
       "4                                   0.001090                    0.0   \n",
       "\n",
       "   docs opened in reports  docs opened on web  docs opened any source  \\\n",
       "0                0.000255            0.017920                0.001264   \n",
       "1                0.000330            0.009753                0.000880   \n",
       "2                0.000172            0.004998                0.000454   \n",
       "3                0.000000            0.001219                0.000069   \n",
       "4                0.000791            0.005120                0.001079   \n",
       "\n",
       "   docs tagged on mobile  docs tagged on web  docs shared any source  \\\n",
       "0                    0.0            0.000000                0.000000   \n",
       "1                    0.0            0.000000                0.000000   \n",
       "2                    0.0            0.000000                0.000000   \n",
       "3                    0.0            0.000707                0.000000   \n",
       "4                    0.0            0.001061                0.000136   \n",
       "\n",
       "   docs chg sentiment any source  docs hidden any source  mobile logins  \\\n",
       "0                            0.0                     0.0       0.000000   \n",
       "1                            0.0                     0.0       0.000000   \n",
       "2                            0.0                     0.0       0.008621   \n",
       "3                            0.0                     0.0       0.000000   \n",
       "4                            0.0                     0.0       0.000000   \n",
       "\n",
       "   web logins  mobile foreground  \n",
       "0    0.079853                0.0  \n",
       "1    0.035165                0.0  \n",
       "2    0.002930                0.0  \n",
       "3    0.008059                0.0  \n",
       "4    0.024176                0.0  "
      ]
     },
     "execution_count": 6,
     "metadata": {},
     "output_type": "execute_result"
    }
   ],
   "source": [
    "meltwater.head()"
   ]
  },
  {
   "cell_type": "code",
   "execution_count": 7,
   "metadata": {},
   "outputs": [],
   "source": [
    "churn = meltwater[\"Account Churned?  (1=Yes, 0=No)\"]"
   ]
  },
  {
   "cell_type": "code",
   "execution_count": 8,
   "metadata": {},
   "outputs": [],
   "source": [
    "meltwaterchurned = meltwater[meltwater[\"Account Churned?  (1=Yes, 0=No)\"] == 0]\n",
    "meltwaternotchurned = meltwater[meltwater[\"Account Churned?  (1=Yes, 0=No)\"] == 1]"
   ]
  },
  {
   "cell_type": "code",
   "execution_count": 9,
   "metadata": {},
   "outputs": [
    {
     "data": {
      "image/png": "[encoded data removed]",
      "text/plain": [
       "<matplotlib.figure.Figure at 0x7f9e8f65dba8>"
      ]
     },
     "metadata": {},
     "output_type": "display_data"
    }
   ],
   "source": [
    "sns.set(style=\"darkgrid\")\n",
    "import seaborn as sns\n",
    "ax = sns.countplot(x=\"Account Churned?  (1=Yes, 0=No)\", data=meltwater)"
   ]
  },
  {
   "cell_type": "code",
   "execution_count": 10,
   "metadata": {},
   "outputs": [],
   "source": [
    "no_churn = len(meltwater[meltwater[\"Account Churned?  (1=Yes, 0=No)\"] == 1])\n",
    "non_churn_indices = meltwater[meltwater[\"Account Churned?  (1=Yes, 0=No)\"] == 0].index\n",
    "\n",
    "random_indices = np.random.choice(non_churn_indices,no_churn,replace =False)\n",
    "churn_indices = meltwater[meltwater[\"Account Churned?  (1=Yes, 0=No)\"] == 1].index\n",
    "\n",
    "under_sample_indices = np.concatenate([churn_indices,random_indices])\n",
    "under_sample = meltwater.loc[under_sample_indices]"
   ]
  },
  {
   "cell_type": "code",
   "execution_count": 11,
   "metadata": {},
   "outputs": [
    {
     "data": {
      "text/plain": [
       "<matplotlib.axes._subplots.AxesSubplot at 0x7f9e8f5d8a58>"
      ]
     },
     "execution_count": 11,
     "metadata": {},
     "output_type": "execute_result"
    },
    {
     "data": {
      "image/png": "[encoded data removed]",
      "text/plain": [
       "<matplotlib.figure.Figure at 0x7f9e8f319390>"
      ]
     },
     "metadata": {},
     "output_type": "display_data"
    }
   ],
   "source": [
    "sns.countplot(x='Account Churned?  (1=Yes, 0=No)', data=under_sample)"
   ]
  },
  {
   "cell_type": "code",
   "execution_count": 12,
   "metadata": {},
   "outputs": [
    {
     "data": {
      "text/html": [
       "<div>\n",
       "<style scoped>\n",
       "    .dataframe tbody tr th:only-of-type {\n",
       "        vertical-align: middle;\n",
       "    }\n",
       "\n",
       "    .dataframe tbody tr th {\n",
       "        vertical-align: top;\n",
       "    }\n",
       "\n",
       "    .dataframe thead th {\n",
       "        text-align: right;\n",
       "    }\n",
       "</style>\n",
       "<table border=\"1\" class=\"dataframe\">\n",
       "  <thead>\n",
       "    <tr style=\"text-align: right;\">\n",
       "      <th></th>\n",
       "      <th>Account Churned?  (1=Yes, 0=No)</th>\n",
       "      <th>nbr of days since last account operation</th>\n",
       "      <th>nbr of days since last document operation</th>\n",
       "      <th>docs opened on mobile</th>\n",
       "      <th>docs opened in reports</th>\n",
       "      <th>docs opened on web</th>\n",
       "      <th>docs opened any source</th>\n",
       "      <th>docs tagged on mobile</th>\n",
       "      <th>docs tagged on web</th>\n",
       "      <th>docs shared any source</th>\n",
       "      <th>docs chg sentiment any source</th>\n",
       "      <th>docs hidden any source</th>\n",
       "      <th>mobile logins</th>\n",
       "      <th>web logins</th>\n",
       "      <th>mobile foreground</th>\n",
       "    </tr>\n",
       "  </thead>\n",
       "  <tbody>\n",
       "    <tr>\n",
       "      <th>7</th>\n",
       "      <td>1</td>\n",
       "      <td>0.011270</td>\n",
       "      <td>0.000146</td>\n",
       "      <td>0.002301</td>\n",
       "      <td>0.000021</td>\n",
       "      <td>0.001463</td>\n",
       "      <td>0.000137</td>\n",
       "      <td>0.000704</td>\n",
       "      <td>0.0</td>\n",
       "      <td>0.000136</td>\n",
       "      <td>0.0</td>\n",
       "      <td>0.0</td>\n",
       "      <td>0.025862</td>\n",
       "      <td>0.010256</td>\n",
       "      <td>0.008104</td>\n",
       "    </tr>\n",
       "    <tr>\n",
       "      <th>19</th>\n",
       "      <td>1</td>\n",
       "      <td>0.017844</td>\n",
       "      <td>0.000000</td>\n",
       "      <td>0.000575</td>\n",
       "      <td>0.000000</td>\n",
       "      <td>0.000000</td>\n",
       "      <td>0.000007</td>\n",
       "      <td>0.000000</td>\n",
       "      <td>0.0</td>\n",
       "      <td>0.000000</td>\n",
       "      <td>0.0</td>\n",
       "      <td>0.0</td>\n",
       "      <td>0.008621</td>\n",
       "      <td>0.057143</td>\n",
       "      <td>0.003171</td>\n",
       "    </tr>\n",
       "    <tr>\n",
       "      <th>23</th>\n",
       "      <td>1</td>\n",
       "      <td>0.002254</td>\n",
       "      <td>0.000187</td>\n",
       "      <td>0.000000</td>\n",
       "      <td>0.000007</td>\n",
       "      <td>0.003291</td>\n",
       "      <td>0.000192</td>\n",
       "      <td>0.000000</td>\n",
       "      <td>0.0</td>\n",
       "      <td>0.000000</td>\n",
       "      <td>0.0</td>\n",
       "      <td>0.0</td>\n",
       "      <td>0.000000</td>\n",
       "      <td>0.007326</td>\n",
       "      <td>0.000000</td>\n",
       "    </tr>\n",
       "    <tr>\n",
       "      <th>27</th>\n",
       "      <td>1</td>\n",
       "      <td>0.000751</td>\n",
       "      <td>0.001069</td>\n",
       "      <td>0.000000</td>\n",
       "      <td>0.001032</td>\n",
       "      <td>0.000610</td>\n",
       "      <td>0.001065</td>\n",
       "      <td>0.000000</td>\n",
       "      <td>0.0</td>\n",
       "      <td>0.000000</td>\n",
       "      <td>0.0</td>\n",
       "      <td>0.0</td>\n",
       "      <td>0.000000</td>\n",
       "      <td>0.000733</td>\n",
       "      <td>0.000000</td>\n",
       "    </tr>\n",
       "    <tr>\n",
       "      <th>28</th>\n",
       "      <td>1</td>\n",
       "      <td>0.001315</td>\n",
       "      <td>0.000847</td>\n",
       "      <td>0.000000</td>\n",
       "      <td>0.000674</td>\n",
       "      <td>0.003048</td>\n",
       "      <td>0.000845</td>\n",
       "      <td>0.000000</td>\n",
       "      <td>0.0</td>\n",
       "      <td>0.000000</td>\n",
       "      <td>0.0</td>\n",
       "      <td>0.0</td>\n",
       "      <td>0.000000</td>\n",
       "      <td>0.003663</td>\n",
       "      <td>0.000000</td>\n",
       "    </tr>\n",
       "  </tbody>\n",
       "</table>\n",
       "</div>"
      ],
      "text/plain": [
       "    Account Churned?  (1=Yes, 0=No)  nbr of days since last account operation  \\\n",
       "7                                 1                                  0.011270   \n",
       "19                                1                                  0.017844   \n",
       "23                                1                                  0.002254   \n",
       "27                                1                                  0.000751   \n",
       "28                                1                                  0.001315   \n",
       "\n",
       "    nbr of days since last document operation  docs opened on mobile  \\\n",
       "7                                    0.000146               0.002301   \n",
       "19                                   0.000000               0.000575   \n",
       "23                                   0.000187               0.000000   \n",
       "27                                   0.001069               0.000000   \n",
       "28                                   0.000847               0.000000   \n",
       "\n",
       "    docs opened in reports  docs opened on web  docs opened any source  \\\n",
       "7                 0.000021            0.001463                0.000137   \n",
       "19                0.000000            0.000000                0.000007   \n",
       "23                0.000007            0.003291                0.000192   \n",
       "27                0.001032            0.000610                0.001065   \n",
       "28                0.000674            0.003048                0.000845   \n",
       "\n",
       "    docs tagged on mobile  docs tagged on web  docs shared any source  \\\n",
       "7                0.000704                 0.0                0.000136   \n",
       "19               0.000000                 0.0                0.000000   \n",
       "23               0.000000                 0.0                0.000000   \n",
       "27               0.000000                 0.0                0.000000   \n",
       "28               0.000000                 0.0                0.000000   \n",
       "\n",
       "    docs chg sentiment any source  docs hidden any source  mobile logins  \\\n",
       "7                             0.0                     0.0       0.025862   \n",
       "19                            0.0                     0.0       0.008621   \n",
       "23                            0.0                     0.0       0.000000   \n",
       "27                            0.0                     0.0       0.000000   \n",
       "28                            0.0                     0.0       0.000000   \n",
       "\n",
       "    web logins  mobile foreground  \n",
       "7     0.010256           0.008104  \n",
       "19    0.057143           0.003171  \n",
       "23    0.007326           0.000000  \n",
       "27    0.000733           0.000000  \n",
       "28    0.003663           0.000000  "
      ]
     },
     "execution_count": 12,
     "metadata": {},
     "output_type": "execute_result"
    }
   ],
   "source": [
    "under_sample.head()"
   ]
  },
  {
   "cell_type": "code",
   "execution_count": 13,
   "metadata": {},
   "outputs": [
    {
     "data": {
      "text/plain": [
       "1.0"
      ]
     },
     "execution_count": 13,
     "metadata": {},
     "output_type": "execute_result"
    }
   ],
   "source": [
    "array = under_sample.values\n",
    "X = array[:,1:13]\n",
    "Y = array[:,0]\n",
    "Y[4]\n",
    "\n",
    "\n"
   ]
  },
  {
   "cell_type": "code",
   "execution_count": 14,
   "metadata": {},
   "outputs": [],
   "source": [
    "#split the data\n",
    "train, test = train_test_split(under_sample, test_size=0.2)\n",
    "\n",
    " \n",
    "df = pd.DataFrame(under_sample, columns=[\"nbr of days since last account operation\",\n",
    "           \"nbr of days since last document operation\",\n",
    "           \"docs opened on mobile\",\n",
    "           \"docs opened in reports\",\n",
    "           \"docs opened on web\",\n",
    "           \"docs opened any source\",\n",
    "           \"docs tagged on mobile\",\n",
    "           \"docs tagged on web\",\n",
    "           \"docs shared any source\",\n",
    "           \"docs chg sentiment any source\",\n",
    "           \"docs hidden any source\",\n",
    "           \"mobile logins\",\n",
    "           \"web logins\",\n",
    "           \"mobile foreground\"]) \n",
    "# load the dataset as a pandas data frame\n",
    "# define the target variable (dependent variable) as y\n",
    "y =pd.DataFrame(under_sample[\"Account Churned?  (1=Yes, 0=No)\"])\n",
    "\n",
    "\n",
    "\n",
    "\n",
    "\n"
   ]
  },
  {
   "cell_type": "code",
   "execution_count": 15,
   "metadata": {},
   "outputs": [
    {
     "name": "stdout",
     "output_type": "stream",
     "text": [
      "(3492, 12) (3492,)\n",
      "(874, 12) (874,)\n"
     ]
    }
   ],
   "source": [
    "X_train, X_test, y_train, y_test = train_test_split(X,Y, test_size=0.2)\n",
    "print( X_train.shape, y_train.shape)\n",
    "print (X_test.shape, y_test.shape)\n",
    "\n"
   ]
  },
  {
   "cell_type": "code",
   "execution_count": 16,
   "metadata": {},
   "outputs": [
    {
     "data": {
      "text/plain": [
       "12"
      ]
     },
     "execution_count": 16,
     "metadata": {},
     "output_type": "execute_result"
    }
   ],
   "source": [
    "X_train.shape[1]"
   ]
  },
  {
   "cell_type": "code",
   "execution_count": 17,
   "metadata": {
    "scrolled": true
   },
   "outputs": [],
   "source": [
    "# model = models.Sequential()\n",
    "# model.add(layers.Dense(32, activation='relu', input_shape=(X_train.shape[1],)))\n",
    "# model.add(layers.Dense(2, activation='softmax'))"
   ]
  },
  {
   "cell_type": "code",
   "execution_count": 18,
   "metadata": {},
   "outputs": [],
   "source": [
    "# model.compile(optimizer='rmsprop',\n",
    "#               loss='bin_crossentropy',\n",
    "#               metrics=['accuracy'])"
   ]
  },
  {
   "cell_type": "code",
   "execution_count": 19,
   "metadata": {},
   "outputs": [],
   "source": [
    "# my code notice i've defined my model differently\n",
    "# you'll get used to it\n",
    "# I've also renamed the file\n",
    "model = models.Sequential()\n",
    "model.add(layers.Dense(4, activation='relu', input_shape=(X_train.shape[1],)))\n",
    "model.add(layers.Dense(1, activation='sigmoid'))\n",
    "\n",
    "model.compile(optimizer='rmsprop', loss='binary_crossentropy')"
   ]
  },
  {
   "cell_type": "code",
   "execution_count": 20,
   "metadata": {},
   "outputs": [
    {
     "name": "stdout",
     "output_type": "stream",
     "text": [
      "Epoch 1/5\n",
      "3492/3492 [==============================] - 0s 41us/step - loss: 0.6940\n",
      "Epoch 2/5\n",
      "3492/3492 [==============================] - 0s 24us/step - loss: 0.6932\n",
      "Epoch 3/5\n",
      "3492/3492 [==============================] - 0s 23us/step - loss: 0.6928\n",
      "Epoch 4/5\n",
      "3492/3492 [==============================] - 0s 22us/step - loss: 0.6925\n",
      "Epoch 5/5\n",
      "3492/3492 [==============================] - 0s 25us/step - loss: 0.6922\n"
     ]
    },
    {
     "data": {
      "text/plain": [
       "<keras.callbacks.History at 0x7f9e8f59cc18>"
      ]
     },
     "execution_count": 20,
     "metadata": {},
     "output_type": "execute_result"
    }
   ],
   "source": [
    "model.fit(X_train, y_train, epochs=5)"
   ]
  },
  {
   "cell_type": "code",
   "execution_count": 21,
   "metadata": {},
   "outputs": [
    {
     "name": "stdout",
     "output_type": "stream",
     "text": [
      "Epoch 1/10\n",
      "3492/3492 [==============================] - 0s 30us/step - loss: 0.6920\n",
      "Epoch 2/10\n",
      "3492/3492 [==============================] - 0s 27us/step - loss: 0.6918\n",
      "Epoch 3/10\n",
      "3492/3492 [==============================] - 0s 27us/step - loss: 0.6915\n",
      "Epoch 4/10\n",
      "3492/3492 [==============================] - 0s 25us/step - loss: 0.6913\n",
      "Epoch 5/10\n",
      "3492/3492 [==============================] - 0s 23us/step - loss: 0.6911\n",
      "Epoch 6/10\n",
      "3492/3492 [==============================] - 0s 24us/step - loss: 0.6909\n",
      "Epoch 7/10\n",
      "3492/3492 [==============================] - 0s 23us/step - loss: 0.6907\n",
      "Epoch 8/10\n",
      "3492/3492 [==============================] - 0s 22us/step - loss: 0.6905\n",
      "Epoch 9/10\n",
      "3492/3492 [==============================] - 0s 26us/step - loss: 0.6903\n",
      "Epoch 10/10\n",
      "3492/3492 [==============================] - 0s 28us/step - loss: 0.6901\n"
     ]
    },
    {
     "data": {
      "text/plain": [
       "<keras.callbacks.History at 0x7f9e8f59c518>"
      ]
     },
     "execution_count": 21,
     "metadata": {},
     "output_type": "execute_result"
    }
   ],
   "source": [
    "model.fit(X_train, y_train, epochs=10)"
   ]
  },
  {
   "cell_type": "code",
   "execution_count": 22,
   "metadata": {},
   "outputs": [
    {
     "name": "stdout",
     "output_type": "stream",
     "text": [
      "874/874 [==============================] - 0s 34us/step\n"
     ]
    }
   ],
   "source": [
    "\n",
    "score = model.evaluate(X_test, y_test)"
   ]
  },
  {
   "cell_type": "code",
   "execution_count": 23,
   "metadata": {},
   "outputs": [
    {
     "name": "stdout",
     "output_type": "stream",
     "text": [
      "_________________________________________________________________\n",
      "Layer (type)                 Output Shape              Param #   \n",
      "=================================================================\n",
      "dense_1 (Dense)              (None, 4)                 52        \n",
      "_________________________________________________________________\n",
      "dense_2 (Dense)              (None, 1)                 5         \n",
      "=================================================================\n",
      "Total params: 57\n",
      "Trainable params: 57\n",
      "Non-trainable params: 0\n",
      "_________________________________________________________________\n"
     ]
    }
   ],
   "source": [
    "model.summary()"
   ]
  },
  {
   "cell_type": "code",
   "execution_count": 24,
   "metadata": {},
   "outputs": [
    {
     "name": "stdout",
     "output_type": "stream",
     "text": [
      "0.6896343839523176\n"
     ]
    }
   ],
   "source": [
    "# This can be improved\n",
    "# You're all set!\n",
    "print (score)"
   ]
  },
  {
   "cell_type": "code",
   "execution_count": null,
   "metadata": {},
   "outputs": [],
   "source": []
  }
 ],
 "metadata": {
  "kernelspec": {
   "display_name": "Python 3",
   "language": "python",
   "name": "python3"
  },
  "language_info": {
   "codemirror_mode": {
    "name": "ipython",
    "version": 3
   },
   "file_extension": ".py",
   "mimetype": "text/x-python",
   "name": "python",
   "nbconvert_exporter": "python",
   "pygments_lexer": "ipython3",
   "version": "3.6.4"
  }
 },
 "nbformat": 4,
 "nbformat_minor": 2
}
